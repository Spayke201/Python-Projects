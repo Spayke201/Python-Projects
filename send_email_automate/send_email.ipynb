{
 "cells": [
  {
   "cell_type": "code",
   "execution_count": 1,
   "metadata": {},
   "outputs": [],
   "source": [
    "import smtplib, ssl\n",
    "from email.mime.text import MIMEText\n",
    "import xlrd"
   ]
  },
  {
   "cell_type": "code",
   "execution_count": null,
   "metadata": {
    "scrolled": false
   },
   "outputs": [],
   "source": [
    "loc = (\"path to .xlsx\") \n",
    "\n",
    "wb = xlrd.open_workbook(loc) \n",
    "sheet = wb.sheet_by_index(0)\n",
    "\n",
    "valores = {}\n",
    "todos = []\n",
    "\n",
    "\n",
    "for i in range(1,5):\n",
    "    \n",
    "    valores['sexo'] = str(sheet.cell_value(i, 0))\n",
    "    valores['nome'] = str(sheet.cell_value(i, 1)).split(' ')[0] # pega soh o primeiro nome\n",
    "    valores['email'] = str(sheet.cell_value(i, 2))\n",
    "    todos.append(valores.copy()) # cria um array de dict\n",
    "\n",
    "todos"
   ]
  },
  {
   "cell_type": "code",
   "execution_count": null,
   "metadata": {},
   "outputs": [],
   "source": [
    "email = 'email_sender@example'\n",
    "pwd = 'password_sender_email'\n",
    "\n",
    "port = 465"
   ]
  },
  {
   "cell_type": "code",
   "execution_count": 4,
   "metadata": {},
   "outputs": [],
   "source": [
    "text_type = 'plain' # or 'html'"
   ]
  },
  {
   "cell_type": "code",
   "execution_count": 5,
   "metadata": {},
   "outputs": [],
   "source": [
    "context = ssl.create_default_context()"
   ]
  },
  {
   "cell_type": "code",
   "execution_count": null,
   "metadata": {},
   "outputs": [],
   "source": [
    "with smtplib.SMTP_SSL(\"smtp.gmail.com\", port, context=context) as server:\n",
    "    server.login(email, pwd)\n",
    "    \n",
    "    for dado in todos:\n",
    "        \n",
    "        print(dado['sexo'], dado['nome'], dado['email'])\n",
    "        \n",
    "        body = f'Ola {dado['nome']}! Seu sexo é {dado['sexo']}'\n",
    "        \n",
    "        msg = MIMEText(body, text_type, 'utf-8')\n",
    "        msg['Subject'] = 'Titulo do email'\n",
    "        msg['From'] = email # quem esta enviando\n",
    "        msg['To'] = dado['email'] # quem esta recebendo\n",
    "    \n",
    "        server.send_message(msg) # envia efetivamente a mensagem"
   ]
  }
 ],
 "metadata": {
  "kernelspec": {
   "display_name": "Python 3",
   "language": "python",
   "name": "python3"
  },
  "language_info": {
   "codemirror_mode": {
    "name": "ipython",
    "version": 3
   },
   "file_extension": ".py",
   "mimetype": "text/x-python",
   "name": "python",
   "nbconvert_exporter": "python",
   "pygments_lexer": "ipython3",
   "version": "3.7.7"
  }
 },
 "nbformat": 4,
 "nbformat_minor": 4
}
